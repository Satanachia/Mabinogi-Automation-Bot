{
 "cells": [
  {
   "cell_type": "markdown",
   "metadata": {},
   "source": [
    "# Initialize Squires"
   ]
  },
  {
   "cell_type": "code",
   "execution_count": 1,
   "metadata": {},
   "outputs": [
    {
     "name": "stdout",
     "output_type": "stream",
     "text": [
      "X, Y dimensions are: (1080, 1920)\n",
      "Initialized\n"
     ]
    }
   ],
   "source": [
    "# Always initialize first. Then run any command. None of them conflict with each other. Execute_action happens once, while Execute_Repeated_Action repeats every 36min. \n",
    "# Program auto-alttabs for you. Just let it run naturally.\n",
    "# Dimensions auto adjusted. Watashi wa tensai dakara... Just don't multi screen cause I dunno what will happen lmao.\n",
    "from importlib import reload\n",
    "import squirebot \n",
    "reload(squirebot)\n",
    "from squirebot import SquireBot\n",
    "import time\n",
    "\n",
    "sb = SquireBot()"
   ]
  },
  {
   "cell_type": "markdown",
   "metadata": {},
   "source": [
    "# Complete and Reassign Missions"
   ]
  },
  {
   "cell_type": "code",
   "execution_count": 2,
   "metadata": {
    "collapsed": true,
    "jupyter": {
     "outputs_hidden": true
    }
   },
   "outputs": [
    {
     "ename": "FailSafeException",
     "evalue": "PyAutoGUI fail-safe triggered from mouse moving to a corner of the screen. To disable this fail-safe, set pyautogui.FAILSAFE to False. DISABLING FAIL-SAFE IS NOT RECOMMENDED.",
     "output_type": "error",
     "traceback": [
      "\u001B[1;31m---------------------------------------------------------------------------\u001B[0m",
      "\u001B[1;31mFailSafeException\u001B[0m                         Traceback (most recent call last)",
      "\u001B[1;32m<ipython-input-2-5213651f9bc8>\u001B[0m in \u001B[0;36m<module>\u001B[1;34m\u001B[0m\n\u001B[0;32m      9\u001B[0m                   10: {'kanna':1, 'logan':2, 'dai':0}, 11: {'kanna':1, 'logan':2, 'dai':0}}\n\u001B[0;32m     10\u001B[0m \u001B[0maction\u001B[0m \u001B[1;33m=\u001B[0m \u001B[0msb\u001B[0m\u001B[1;33m.\u001B[0m\u001B[0m_reassign_missions\u001B[0m\u001B[1;33m\u001B[0m\u001B[1;33m\u001B[0m\u001B[0m\n\u001B[1;32m---> 11\u001B[1;33m \u001B[0msb\u001B[0m\u001B[1;33m.\u001B[0m\u001B[0mexecute_action_on_squires\u001B[0m\u001B[1;33m(\u001B[0m\u001B[0mstarting_char_id\u001B[0m\u001B[1;33m,\u001B[0m \u001B[0mtotal_chars\u001B[0m\u001B[1;33m,\u001B[0m \u001B[0maction\u001B[0m\u001B[1;33m,\u001B[0m \u001B[0mmissions_by_id\u001B[0m\u001B[1;33m=\u001B[0m\u001B[0mmissions_by_id\u001B[0m\u001B[1;33m)\u001B[0m\u001B[1;33m\u001B[0m\u001B[1;33m\u001B[0m\u001B[0m\n\u001B[0m\u001B[0;32m     12\u001B[0m \u001B[1;33m\u001B[0m\u001B[0m\n",
      "\u001B[1;32mC:\\Code\\Mabinogi-Automation-Bot-master\\squirebot.py\u001B[0m in \u001B[0;36mexecute_action_on_squires\u001B[1;34m(self, start, num_chars, action, **kwargs)\u001B[0m\n\u001B[0;32m     52\u001B[0m             \u001B[0mself\u001B[0m\u001B[1;33m.\u001B[0m\u001B[0m_login\u001B[0m\u001B[1;33m(\u001B[0m\u001B[0mi\u001B[0m\u001B[1;33m)\u001B[0m\u001B[1;33m\u001B[0m\u001B[1;33m\u001B[0m\u001B[0m\n\u001B[0;32m     53\u001B[0m             \u001B[0mself\u001B[0m\u001B[1;33m.\u001B[0m\u001B[0m_reset_char_screen\u001B[0m\u001B[1;33m(\u001B[0m\u001B[1;33m)\u001B[0m\u001B[1;33m\u001B[0m\u001B[1;33m\u001B[0m\u001B[0m\n\u001B[1;32m---> 54\u001B[1;33m             \u001B[0maction\u001B[0m\u001B[1;33m(\u001B[0m\u001B[1;33m**\u001B[0m\u001B[0mkwargs\u001B[0m\u001B[1;33m)\u001B[0m\u001B[1;33m\u001B[0m\u001B[1;33m\u001B[0m\u001B[0m\n\u001B[0m\u001B[0;32m     55\u001B[0m             \u001B[0mself\u001B[0m\u001B[1;33m.\u001B[0m\u001B[0m_logout\u001B[0m\u001B[1;33m(\u001B[0m\u001B[1;33m)\u001B[0m\u001B[1;33m\u001B[0m\u001B[1;33m\u001B[0m\u001B[0m\n\u001B[0;32m     56\u001B[0m \u001B[1;33m\u001B[0m\u001B[0m\n",
      "\u001B[1;32mC:\\Code\\Mabinogi-Automation-Bot-master\\squirebot.py\u001B[0m in \u001B[0;36m_reassign_missions\u001B[1;34m(self, missions_by_id, squire_id, number)\u001B[0m\n\u001B[0;32m    212\u001B[0m     \u001B[1;32mdef\u001B[0m \u001B[0m_reassign_missions\u001B[0m\u001B[1;33m(\u001B[0m\u001B[0mself\u001B[0m\u001B[1;33m,\u001B[0m \u001B[0mmissions_by_id\u001B[0m\u001B[1;33m,\u001B[0m \u001B[0msquire_id\u001B[0m\u001B[1;33m,\u001B[0m \u001B[0mnumber\u001B[0m\u001B[1;33m=\u001B[0m\u001B[1;36m3\u001B[0m\u001B[1;33m)\u001B[0m\u001B[1;33m:\u001B[0m\u001B[1;33m\u001B[0m\u001B[1;33m\u001B[0m\u001B[0m\n\u001B[0;32m    213\u001B[0m         \u001B[0mmissions\u001B[0m \u001B[1;33m=\u001B[0m \u001B[0mmissions_by_id\u001B[0m\u001B[1;33m[\u001B[0m\u001B[0msquire_id\u001B[0m\u001B[1;33m]\u001B[0m\u001B[1;33m\u001B[0m\u001B[1;33m\u001B[0m\u001B[0m\n\u001B[1;32m--> 214\u001B[1;33m         \u001B[0mself\u001B[0m\u001B[1;33m.\u001B[0m\u001B[0m_complete_missions\u001B[0m\u001B[1;33m(\u001B[0m\u001B[0mnumber\u001B[0m\u001B[1;33m)\u001B[0m\u001B[1;33m\u001B[0m\u001B[1;33m\u001B[0m\u001B[0m\n\u001B[0m\u001B[0;32m    215\u001B[0m         \u001B[0mself\u001B[0m\u001B[1;33m.\u001B[0m\u001B[0m_assign_missions\u001B[0m\u001B[1;33m(\u001B[0m\u001B[0mmissions\u001B[0m\u001B[1;33m)\u001B[0m\u001B[1;33m\u001B[0m\u001B[1;33m\u001B[0m\u001B[0m\n\u001B[0;32m    216\u001B[0m \u001B[1;33m\u001B[0m\u001B[0m\n",
      "\u001B[1;32mC:\\Code\\Mabinogi-Automation-Bot-master\\squirebot.py\u001B[0m in \u001B[0;36m_complete_missions\u001B[1;34m(self, number)\u001B[0m\n\u001B[0;32m    219\u001B[0m         \u001B[0mself\u001B[0m\u001B[1;33m.\u001B[0m\u001B[0m_mabi_click\u001B[0m\u001B[1;33m(\u001B[0m\u001B[1;36m990\u001B[0m\u001B[1;33m,\u001B[0m \u001B[1;36m330\u001B[0m\u001B[1;33m,\u001B[0m \u001B[0mdelay\u001B[0m\u001B[1;33m=\u001B[0m\u001B[1;36m0.5\u001B[0m\u001B[1;33m)\u001B[0m\u001B[1;33m\u001B[0m\u001B[1;33m\u001B[0m\u001B[0m\n\u001B[0;32m    220\u001B[0m         \u001B[1;32mfor\u001B[0m \u001B[0mi\u001B[0m \u001B[1;32min\u001B[0m \u001B[0mrange\u001B[0m\u001B[1;33m(\u001B[0m\u001B[0mnumber\u001B[0m\u001B[1;33m)\u001B[0m\u001B[1;33m:\u001B[0m\u001B[1;33m\u001B[0m\u001B[1;33m\u001B[0m\u001B[0m\n\u001B[1;32m--> 221\u001B[1;33m             \u001B[0mself\u001B[0m\u001B[1;33m.\u001B[0m\u001B[0m_select_mission\u001B[0m\u001B[1;33m(\u001B[0m\u001B[1;36m0\u001B[0m\u001B[1;33m)\u001B[0m\u001B[1;33m\u001B[0m\u001B[1;33m\u001B[0m\u001B[0m\n\u001B[0m\u001B[0;32m    222\u001B[0m             \u001B[0mself\u001B[0m\u001B[1;33m.\u001B[0m\u001B[0m_mabi_click\u001B[0m\u001B[1;33m(\u001B[0m\u001B[1;36m480\u001B[0m\u001B[1;33m,\u001B[0m \u001B[1;36m520\u001B[0m\u001B[1;33m,\u001B[0m \u001B[0mdelay\u001B[0m\u001B[1;33m=\u001B[0m\u001B[1;36m0.1\u001B[0m\u001B[1;33m)\u001B[0m\u001B[1;33m\u001B[0m\u001B[1;33m\u001B[0m\u001B[0m\n\u001B[0;32m    223\u001B[0m             \u001B[0mPressKey\u001B[0m\u001B[1;33m(\u001B[0m\u001B[0mW\u001B[0m\u001B[1;33m)\u001B[0m\u001B[1;33m\u001B[0m\u001B[1;33m\u001B[0m\u001B[0m\n",
      "\u001B[1;32mC:\\Code\\Mabinogi-Automation-Bot-master\\squirebot.py\u001B[0m in \u001B[0;36m_select_mission\u001B[1;34m(self, i)\u001B[0m\n\u001B[0;32m    263\u001B[0m         \u001B[1;32melse\u001B[0m\u001B[1;33m:\u001B[0m\u001B[1;33m\u001B[0m\u001B[1;33m\u001B[0m\u001B[0m\n\u001B[0;32m    264\u001B[0m             \u001B[0mself\u001B[0m\u001B[1;33m.\u001B[0m\u001B[0m_mabi_click\u001B[0m\u001B[1;33m(\u001B[0m\u001B[1;36m748\u001B[0m\u001B[1;33m,\u001B[0m \u001B[1;36m938\u001B[0m\u001B[1;33m,\u001B[0m \u001B[0mdelay\u001B[0m\u001B[1;33m=\u001B[0m\u001B[1;36m0.1\u001B[0m\u001B[1;33m,\u001B[0m \u001B[0mapply_cfactor\u001B[0m\u001B[1;33m=\u001B[0m\u001B[0mself\u001B[0m\u001B[1;33m.\u001B[0m\u001B[0mapply_factor\u001B[0m\u001B[1;33m)\u001B[0m\u001B[1;33m\u001B[0m\u001B[1;33m\u001B[0m\u001B[0m\n\u001B[1;32m--> 265\u001B[1;33m         \u001B[0mself\u001B[0m\u001B[1;33m.\u001B[0m\u001B[0m_mabi_click\u001B[0m\u001B[1;33m(\u001B[0m\u001B[1;36m500\u001B[0m\u001B[1;33m+\u001B[0m\u001B[0mi\u001B[0m\u001B[1;33m*\u001B[0m\u001B[1;36m42\u001B[0m\u001B[1;33m,\u001B[0m \u001B[1;36m780\u001B[0m\u001B[1;33m,\u001B[0m \u001B[0mdelay\u001B[0m\u001B[1;33m=\u001B[0m\u001B[1;36m0.1\u001B[0m\u001B[1;33m,\u001B[0m \u001B[0mapply_cfactor\u001B[0m\u001B[1;33m=\u001B[0m\u001B[0mself\u001B[0m\u001B[1;33m.\u001B[0m\u001B[0mapply_factor\u001B[0m\u001B[1;33m)\u001B[0m\u001B[1;33m\u001B[0m\u001B[1;33m\u001B[0m\u001B[0m\n\u001B[0m\u001B[0;32m    266\u001B[0m \u001B[1;33m\u001B[0m\u001B[0m\n\u001B[0;32m    267\u001B[0m     \u001B[1;32mdef\u001B[0m \u001B[0m_select_squire\u001B[0m\u001B[1;33m(\u001B[0m\u001B[0mself\u001B[0m\u001B[1;33m,\u001B[0m \u001B[0msquire\u001B[0m\u001B[1;33m)\u001B[0m\u001B[1;33m:\u001B[0m\u001B[1;33m\u001B[0m\u001B[1;33m\u001B[0m\u001B[0m\n",
      "\u001B[1;32mC:\\Code\\Mabinogi-Automation-Bot-master\\squirebot.py\u001B[0m in \u001B[0;36m_mabi_click\u001B[1;34m(self, h, w, delay, clickDelay, multi_click, apply_sfactor, apply_cfactor)\u001B[0m\n\u001B[0;32m    340\u001B[0m \u001B[1;33m\u001B[0m\u001B[0m\n\u001B[0;32m    341\u001B[0m         \u001B[1;32mfor\u001B[0m \u001B[0mi\u001B[0m \u001B[1;32min\u001B[0m \u001B[0mrange\u001B[0m\u001B[1;33m(\u001B[0m\u001B[0mmulti_click\u001B[0m\u001B[1;33m)\u001B[0m\u001B[1;33m:\u001B[0m\u001B[1;33m\u001B[0m\u001B[1;33m\u001B[0m\u001B[0m\n\u001B[1;32m--> 342\u001B[1;33m             \u001B[0mpyautogui\u001B[0m\u001B[1;33m.\u001B[0m\u001B[0mmoveTo\u001B[0m\u001B[1;33m(\u001B[0m\u001B[0mw\u001B[0m\u001B[1;33m+\u001B[0m\u001B[0my_sfactor\u001B[0m\u001B[1;33m+\u001B[0m\u001B[0my_cfactor\u001B[0m\u001B[1;33m,\u001B[0m \u001B[0mh\u001B[0m\u001B[1;33m+\u001B[0m\u001B[0mx_sfactor\u001B[0m\u001B[1;33m+\u001B[0m\u001B[0mx_cfactor\u001B[0m\u001B[1;33m)\u001B[0m\u001B[1;33m\u001B[0m\u001B[1;33m\u001B[0m\u001B[0m\n\u001B[0m\u001B[0;32m    343\u001B[0m             \u001B[0mpyautogui\u001B[0m\u001B[1;33m.\u001B[0m\u001B[0mmouseDown\u001B[0m\u001B[1;33m(\u001B[0m\u001B[1;33m)\u001B[0m\u001B[1;33m;\u001B[0m\u001B[1;33m\u001B[0m\u001B[1;33m\u001B[0m\u001B[0m\n\u001B[0;32m    344\u001B[0m             \u001B[0mtime\u001B[0m\u001B[1;33m.\u001B[0m\u001B[0msleep\u001B[0m\u001B[1;33m(\u001B[0m\u001B[0mclickDelay\u001B[0m\u001B[1;33m)\u001B[0m\u001B[1;33m;\u001B[0m\u001B[1;33m\u001B[0m\u001B[1;33m\u001B[0m\u001B[0m\n",
      "\u001B[1;32mC:\\Anaconda\\lib\\site-packages\\pyautogui\\__init__.py\u001B[0m in \u001B[0;36mwrapper\u001B[1;34m(*args, **kwargs)\u001B[0m\n\u001B[0;32m    583\u001B[0m     \u001B[1;33m@\u001B[0m\u001B[0mfunctools\u001B[0m\u001B[1;33m.\u001B[0m\u001B[0mwraps\u001B[0m\u001B[1;33m(\u001B[0m\u001B[0mwrappedFunction\u001B[0m\u001B[1;33m)\u001B[0m\u001B[1;33m\u001B[0m\u001B[1;33m\u001B[0m\u001B[0m\n\u001B[0;32m    584\u001B[0m     \u001B[1;32mdef\u001B[0m \u001B[0mwrapper\u001B[0m\u001B[1;33m(\u001B[0m\u001B[1;33m*\u001B[0m\u001B[0margs\u001B[0m\u001B[1;33m,\u001B[0m \u001B[1;33m**\u001B[0m\u001B[0mkwargs\u001B[0m\u001B[1;33m)\u001B[0m\u001B[1;33m:\u001B[0m\u001B[1;33m\u001B[0m\u001B[1;33m\u001B[0m\u001B[0m\n\u001B[1;32m--> 585\u001B[1;33m         \u001B[0mfailSafeCheck\u001B[0m\u001B[1;33m(\u001B[0m\u001B[1;33m)\u001B[0m\u001B[1;33m\u001B[0m\u001B[1;33m\u001B[0m\u001B[0m\n\u001B[0m\u001B[0;32m    586\u001B[0m         \u001B[0mreturnVal\u001B[0m \u001B[1;33m=\u001B[0m \u001B[0mwrappedFunction\u001B[0m\u001B[1;33m(\u001B[0m\u001B[1;33m*\u001B[0m\u001B[0margs\u001B[0m\u001B[1;33m,\u001B[0m \u001B[1;33m**\u001B[0m\u001B[0mkwargs\u001B[0m\u001B[1;33m)\u001B[0m\u001B[1;33m\u001B[0m\u001B[1;33m\u001B[0m\u001B[0m\n\u001B[0;32m    587\u001B[0m         \u001B[0m_handlePause\u001B[0m\u001B[1;33m(\u001B[0m\u001B[0mkwargs\u001B[0m\u001B[1;33m.\u001B[0m\u001B[0mget\u001B[0m\u001B[1;33m(\u001B[0m\u001B[1;34m\"_pause\"\u001B[0m\u001B[1;33m,\u001B[0m \u001B[1;32mTrue\u001B[0m\u001B[1;33m)\u001B[0m\u001B[1;33m)\u001B[0m\u001B[1;33m\u001B[0m\u001B[1;33m\u001B[0m\u001B[0m\n",
      "\u001B[1;32mC:\\Anaconda\\lib\\site-packages\\pyautogui\\__init__.py\u001B[0m in \u001B[0;36mfailSafeCheck\u001B[1;34m()\u001B[0m\n\u001B[0;32m   1708\u001B[0m \u001B[1;32mdef\u001B[0m \u001B[0mfailSafeCheck\u001B[0m\u001B[1;33m(\u001B[0m\u001B[1;33m)\u001B[0m\u001B[1;33m:\u001B[0m\u001B[1;33m\u001B[0m\u001B[1;33m\u001B[0m\u001B[0m\n\u001B[0;32m   1709\u001B[0m     \u001B[1;32mif\u001B[0m \u001B[0mFAILSAFE\u001B[0m \u001B[1;32mand\u001B[0m \u001B[0mtuple\u001B[0m\u001B[1;33m(\u001B[0m\u001B[0mposition\u001B[0m\u001B[1;33m(\u001B[0m\u001B[1;33m)\u001B[0m\u001B[1;33m)\u001B[0m \u001B[1;32min\u001B[0m \u001B[0mFAILSAFE_POINTS\u001B[0m\u001B[1;33m:\u001B[0m\u001B[1;33m\u001B[0m\u001B[1;33m\u001B[0m\u001B[0m\n\u001B[1;32m-> 1710\u001B[1;33m         raise FailSafeException(\n\u001B[0m\u001B[0;32m   1711\u001B[0m             \u001B[1;34m\"PyAutoGUI fail-safe triggered from mouse moving to a corner of the screen. To disable this fail-safe, set pyautogui.FAILSAFE to False. DISABLING FAIL-SAFE IS NOT RECOMMENDED.\"\u001B[0m\u001B[1;33m\u001B[0m\u001B[1;33m\u001B[0m\u001B[0m\n\u001B[0;32m   1712\u001B[0m         )\n",
      "\u001B[1;31mFailSafeException\u001B[0m: PyAutoGUI fail-safe triggered from mouse moving to a corner of the screen. To disable this fail-safe, set pyautogui.FAILSAFE to False. DISABLING FAIL-SAFE IS NOT RECOMMENDED."
     ]
    }
   ],
   "source": [
    "# Main Account - Money\n",
    "starting_char_id = 0\n",
    "total_chars = 12\n",
    "missions_by_id = {0: {'kanna':2, 'logan':1, 'dai':0}, 1: {'kanna':0, 'logan':2, 'dai':1}, \n",
    "                  2: {'kanna':1, 'logan':2, 'dai':0}, 3: {'kanna':1, 'logan':2, 'dai':0},\n",
    "                  4: {'kanna':0, 'logan':2, 'dai':1}, 5: {'kanna':0, 'logan':2, 'dai':1}, \n",
    "                  6: {'kanna':0, 'logan':2, 'dai':1}, 7: {'kanna':0, 'logan':2, 'dai':1},\n",
    "                  8: {'kanna':1, 'logan':2, 'dai':0}, 9: {'kanna':0, 'logan':2, 'dai':1}, \n",
    "                  10: {'kanna':1, 'logan':2, 'dai':0}, 11: {'kanna':1, 'logan':2, 'dai':0}}\n",
    "action = sb._reassign_missions\n",
    "sb.execute_action_on_squires(starting_char_id, total_chars, action, missions_by_id=missions_by_id)"
   ]
  },
  {
   "cell_type": "markdown",
   "metadata": {},
   "source": [
    "# Advanced Squire Training"
   ]
  },
  {
   "cell_type": "code",
   "execution_count": 2,
   "metadata": {},
   "outputs": [
    {
     "name": "stdout",
     "output_type": "stream",
     "text": [
      "Starting <bound method SquireBot._train_advanced_squire of <squirebot.SquireBot object at 0x000001C693938148>>\n",
      "0 | want to know how to enjoy playing.\n",
      "\n",
      "My sister always told me | should know how to play.\n",
      "\f",
      "\n",
      "0 od (exe kX 2mm (2d | Oates] OLOLUp anda T=mU] el@elpaliace Manley y (0) ab\n",
      "\n",
      "MAaMexemeUlacelUkar-]elelUh andareme(sic-] ie\n",
      "\f",
      "\n",
      "0 | heard that Milletians has a special knack for cooking.\n",
      "\n",
      "| also love cooking... could you teach me?\n",
      "\f",
      "\n",
      "0 | want to know more about the training methods.\n",
      "\n",
      "Karofoylatemolalicmarelarssarelere | ana\n",
      "\f",
      "\n",
      "0 | want to know more about the training methods.\n",
      "\n",
      "Karofoylatemolalicmarelarssarelere | ana\n",
      "\f",
      "\n",
      "0 | want to know how to enjoy playing.\n",
      "\n",
      "My sister always told me | should know how to play.\n",
      "\f",
      "\n",
      "0 | want to know more about the training methods.\n",
      "\n",
      "KarofoyiateMolalicmarelarssarelere lang\n",
      "\f",
      "\n",
      "0 | want to know more about the training methods.\n",
      "\n",
      "KarofoyiateMolalicmarelarssarelere lang\n",
      "\f",
      "\n",
      "0 | want to know how to enjoy playing.\n",
      "\n",
      "My sister always told me | should know how to play.\n",
      "\f",
      "\n"
     ]
    },
    {
     "ename": "FailSafeException",
     "evalue": "PyAutoGUI fail-safe triggered from mouse moving to a corner of the screen. To disable this fail-safe, set pyautogui.FAILSAFE to False. DISABLING FAIL-SAFE IS NOT RECOMMENDED.",
     "output_type": "error",
     "traceback": [
      "\u001B[1;31m---------------------------------------------------------------------------\u001B[0m",
      "\u001B[1;31mFailSafeException\u001B[0m                         Traceback (most recent call last)",
      "\u001B[1;32m<ipython-input-2-adb758b248c8>\u001B[0m in \u001B[0;36m<module>\u001B[1;34m()\u001B[0m\n\u001B[0;32m     17\u001B[0m \u001B[1;33m\u001B[0m\u001B[0m\n\u001B[0;32m     18\u001B[0m \u001B[0maction\u001B[0m \u001B[1;33m=\u001B[0m \u001B[0msb\u001B[0m\u001B[1;33m.\u001B[0m\u001B[0m_train_advanced_squire\u001B[0m\u001B[1;33m\u001B[0m\u001B[1;33m\u001B[0m\u001B[0m\n\u001B[1;32m---> 19\u001B[1;33m \u001B[0msb\u001B[0m\u001B[1;33m.\u001B[0m\u001B[0mexecute_repeated_action\u001B[0m\u001B[1;33m(\u001B[0m\u001B[1;36m8\u001B[0m\u001B[1;33m,\u001B[0m \u001B[1;36m11\u001B[0m\u001B[1;33m,\u001B[0m \u001B[0maction\u001B[0m\u001B[1;33m,\u001B[0m \u001B[0mmissions_by_id\u001B[0m\u001B[1;33m=\u001B[0m\u001B[0mmissions_by_id\u001B[0m\u001B[1;33m,\u001B[0m \u001B[0mtraining_by_id\u001B[0m\u001B[1;33m=\u001B[0m\u001B[0mtraining_ids\u001B[0m\u001B[1;33m,\u001B[0m \u001B[0mconverse\u001B[0m\u001B[1;33m=\u001B[0m\u001B[1;32mTrue\u001B[0m\u001B[1;33m)\u001B[0m\u001B[1;33m\u001B[0m\u001B[1;33m\u001B[0m\u001B[0m\n\u001B[0m",
      "\u001B[1;32mC:\\Code\\Mabinogi-Automation-Bot-master\\squirebot.py\u001B[0m in \u001B[0;36mexecute_repeated_action\u001B[1;34m(self, start, num_chars, action, cycle, **kwargs)\u001B[0m\n\u001B[0;32m     30\u001B[0m             \u001B[0mprint\u001B[0m\u001B[1;33m(\u001B[0m\u001B[1;34m\"Starting\"\u001B[0m\u001B[1;33m,\u001B[0m \u001B[0mstr\u001B[0m\u001B[1;33m(\u001B[0m\u001B[0maction\u001B[0m\u001B[1;33m)\u001B[0m\u001B[1;33m)\u001B[0m\u001B[1;33m\u001B[0m\u001B[1;33m\u001B[0m\u001B[0m\n\u001B[0;32m     31\u001B[0m             \u001B[0mstart_time\u001B[0m \u001B[1;33m=\u001B[0m \u001B[0mtime\u001B[0m\u001B[1;33m.\u001B[0m\u001B[0mtime\u001B[0m\u001B[1;33m(\u001B[0m\u001B[1;33m)\u001B[0m\u001B[1;33m\u001B[0m\u001B[1;33m\u001B[0m\u001B[0m\n\u001B[1;32m---> 32\u001B[1;33m             \u001B[0mself\u001B[0m\u001B[1;33m.\u001B[0m\u001B[0mexecute_action_on_squires\u001B[0m\u001B[1;33m(\u001B[0m\u001B[0mstart\u001B[0m\u001B[1;33m,\u001B[0m \u001B[0mnum_chars\u001B[0m\u001B[1;33m,\u001B[0m \u001B[0maction\u001B[0m\u001B[1;33m,\u001B[0m \u001B[1;33m**\u001B[0m\u001B[0mkwargs\u001B[0m\u001B[1;33m)\u001B[0m\u001B[1;33m\u001B[0m\u001B[1;33m\u001B[0m\u001B[0m\n\u001B[0m\u001B[0;32m     33\u001B[0m \u001B[1;33m\u001B[0m\u001B[0m\n\u001B[0;32m     34\u001B[0m             \u001B[0mi\u001B[0m \u001B[1;33m=\u001B[0m \u001B[1;36m0\u001B[0m\u001B[1;33m\u001B[0m\u001B[1;33m\u001B[0m\u001B[0m\n",
      "\u001B[1;32mC:\\Code\\Mabinogi-Automation-Bot-master\\squirebot.py\u001B[0m in \u001B[0;36mexecute_action_on_squires\u001B[1;34m(self, start, num_chars, action, **kwargs)\u001B[0m\n\u001B[0;32m     53\u001B[0m             \u001B[0mself\u001B[0m\u001B[1;33m.\u001B[0m\u001B[0m_reset_char_screen\u001B[0m\u001B[1;33m(\u001B[0m\u001B[1;33m)\u001B[0m\u001B[1;33m\u001B[0m\u001B[1;33m\u001B[0m\u001B[0m\n\u001B[0;32m     54\u001B[0m             \u001B[0maction\u001B[0m\u001B[1;33m(\u001B[0m\u001B[1;33m**\u001B[0m\u001B[0mkwargs\u001B[0m\u001B[1;33m)\u001B[0m\u001B[1;33m\u001B[0m\u001B[1;33m\u001B[0m\u001B[0m\n\u001B[1;32m---> 55\u001B[1;33m             \u001B[0mself\u001B[0m\u001B[1;33m.\u001B[0m\u001B[0m_logout\u001B[0m\u001B[1;33m(\u001B[0m\u001B[1;33m)\u001B[0m\u001B[1;33m\u001B[0m\u001B[1;33m\u001B[0m\u001B[0m\n\u001B[0m\u001B[0;32m     56\u001B[0m \u001B[1;33m\u001B[0m\u001B[0m\n\u001B[0;32m     57\u001B[0m             \u001B[0mPressKey\u001B[0m\u001B[1;33m(\u001B[0m\u001B[0mRIGHT\u001B[0m\u001B[1;33m)\u001B[0m\u001B[1;33m\u001B[0m\u001B[1;33m\u001B[0m\u001B[0m\n",
      "\u001B[1;32mC:\\Code\\Mabinogi-Automation-Bot-master\\squirebot.py\u001B[0m in \u001B[0;36m_logout\u001B[1;34m(self)\u001B[0m\n\u001B[0;32m    292\u001B[0m \u001B[1;33m\u001B[0m\u001B[0m\n\u001B[0;32m    293\u001B[0m     \u001B[1;32mdef\u001B[0m \u001B[0m_logout\u001B[0m\u001B[1;33m(\u001B[0m\u001B[0mself\u001B[0m\u001B[1;33m)\u001B[0m\u001B[1;33m:\u001B[0m\u001B[1;33m\u001B[0m\u001B[1;33m\u001B[0m\u001B[0m\n\u001B[1;32m--> 294\u001B[1;33m         \u001B[0mself\u001B[0m\u001B[1;33m.\u001B[0m\u001B[0m_mabi_click\u001B[0m\u001B[1;33m(\u001B[0m\u001B[1;36m1060\u001B[0m\u001B[1;33m,\u001B[0m \u001B[1;36m580\u001B[0m\u001B[1;33m,\u001B[0m \u001B[0mdelay\u001B[0m\u001B[1;33m=\u001B[0m\u001B[1;36m0.5\u001B[0m\u001B[1;33m,\u001B[0m \u001B[0mapply_sfactor\u001B[0m\u001B[1;33m=\u001B[0m\u001B[0mself\u001B[0m\u001B[1;33m.\u001B[0m\u001B[0mapply_factor\u001B[0m\u001B[1;33m)\u001B[0m\u001B[1;33m\u001B[0m\u001B[1;33m\u001B[0m\u001B[0m\n\u001B[0m\u001B[0;32m    295\u001B[0m         \u001B[0mself\u001B[0m\u001B[1;33m.\u001B[0m\u001B[0m_mabi_click\u001B[0m\u001B[1;33m(\u001B[0m\u001B[1;36m980\u001B[0m\u001B[1;33m,\u001B[0m \u001B[1;36m600\u001B[0m\u001B[1;33m,\u001B[0m \u001B[0mdelay\u001B[0m\u001B[1;33m=\u001B[0m\u001B[1;36m0.5\u001B[0m\u001B[1;33m,\u001B[0m \u001B[0mapply_sfactor\u001B[0m\u001B[1;33m=\u001B[0m\u001B[0mself\u001B[0m\u001B[1;33m.\u001B[0m\u001B[0mapply_factor\u001B[0m\u001B[1;33m)\u001B[0m\u001B[1;33m\u001B[0m\u001B[1;33m\u001B[0m\u001B[0m\n\u001B[0;32m    296\u001B[0m         \u001B[0mself\u001B[0m\u001B[1;33m.\u001B[0m\u001B[0m_mabi_click\u001B[0m\u001B[1;33m(\u001B[0m\u001B[1;36m600\u001B[0m\u001B[1;33m,\u001B[0m \u001B[1;36m1000\u001B[0m\u001B[1;33m,\u001B[0m \u001B[0mdelay\u001B[0m\u001B[1;33m=\u001B[0m\u001B[1;36m0.5\u001B[0m\u001B[1;33m,\u001B[0m \u001B[0mapply_cfactor\u001B[0m\u001B[1;33m=\u001B[0m\u001B[0mself\u001B[0m\u001B[1;33m.\u001B[0m\u001B[0mapply_factor\u001B[0m\u001B[1;33m)\u001B[0m\u001B[1;33m\u001B[0m\u001B[1;33m\u001B[0m\u001B[0m\n",
      "\u001B[1;32mC:\\Code\\Mabinogi-Automation-Bot-master\\squirebot.py\u001B[0m in \u001B[0;36m_mabi_click\u001B[1;34m(self, h, w, delay, clickDelay, multi_click, apply_sfactor, apply_cfactor)\u001B[0m\n\u001B[0;32m    345\u001B[0m \u001B[1;33m\u001B[0m\u001B[0m\n\u001B[0;32m    346\u001B[0m         \u001B[1;32mfor\u001B[0m \u001B[0mi\u001B[0m \u001B[1;32min\u001B[0m \u001B[0mrange\u001B[0m\u001B[1;33m(\u001B[0m\u001B[0mmulti_click\u001B[0m\u001B[1;33m)\u001B[0m\u001B[1;33m:\u001B[0m\u001B[1;33m\u001B[0m\u001B[1;33m\u001B[0m\u001B[0m\n\u001B[1;32m--> 347\u001B[1;33m             \u001B[0mpyautogui\u001B[0m\u001B[1;33m.\u001B[0m\u001B[0mmoveTo\u001B[0m\u001B[1;33m(\u001B[0m\u001B[0mw\u001B[0m\u001B[1;33m+\u001B[0m\u001B[0my_sfactor\u001B[0m\u001B[1;33m+\u001B[0m\u001B[0my_cfactor\u001B[0m\u001B[1;33m,\u001B[0m \u001B[0mh\u001B[0m\u001B[1;33m+\u001B[0m\u001B[0mx_sfactor\u001B[0m\u001B[1;33m+\u001B[0m\u001B[0mx_cfactor\u001B[0m\u001B[1;33m)\u001B[0m\u001B[1;33m\u001B[0m\u001B[1;33m\u001B[0m\u001B[0m\n\u001B[0m\u001B[0;32m    348\u001B[0m             \u001B[0mpyautogui\u001B[0m\u001B[1;33m.\u001B[0m\u001B[0mmouseDown\u001B[0m\u001B[1;33m(\u001B[0m\u001B[1;33m)\u001B[0m\u001B[1;33m;\u001B[0m\u001B[1;33m\u001B[0m\u001B[1;33m\u001B[0m\u001B[0m\n\u001B[0;32m    349\u001B[0m             \u001B[0mtime\u001B[0m\u001B[1;33m.\u001B[0m\u001B[0msleep\u001B[0m\u001B[1;33m(\u001B[0m\u001B[0mclickDelay\u001B[0m\u001B[1;33m)\u001B[0m\u001B[1;33m;\u001B[0m\u001B[1;33m\u001B[0m\u001B[1;33m\u001B[0m\u001B[0m\n",
      "\u001B[1;32mC:\\Anaconda\\envs\\mabi\\lib\\site-packages\\pyautogui\\__init__.py\u001B[0m in \u001B[0;36mwrapper\u001B[1;34m(*args, **kwargs)\u001B[0m\n\u001B[0;32m    583\u001B[0m     \u001B[1;33m@\u001B[0m\u001B[0mfunctools\u001B[0m\u001B[1;33m.\u001B[0m\u001B[0mwraps\u001B[0m\u001B[1;33m(\u001B[0m\u001B[0mwrappedFunction\u001B[0m\u001B[1;33m)\u001B[0m\u001B[1;33m\u001B[0m\u001B[1;33m\u001B[0m\u001B[0m\n\u001B[0;32m    584\u001B[0m     \u001B[1;32mdef\u001B[0m \u001B[0mwrapper\u001B[0m\u001B[1;33m(\u001B[0m\u001B[1;33m*\u001B[0m\u001B[0margs\u001B[0m\u001B[1;33m,\u001B[0m \u001B[1;33m**\u001B[0m\u001B[0mkwargs\u001B[0m\u001B[1;33m)\u001B[0m\u001B[1;33m:\u001B[0m\u001B[1;33m\u001B[0m\u001B[1;33m\u001B[0m\u001B[0m\n\u001B[1;32m--> 585\u001B[1;33m         \u001B[0mfailSafeCheck\u001B[0m\u001B[1;33m(\u001B[0m\u001B[1;33m)\u001B[0m\u001B[1;33m\u001B[0m\u001B[1;33m\u001B[0m\u001B[0m\n\u001B[0m\u001B[0;32m    586\u001B[0m         \u001B[0mreturnVal\u001B[0m \u001B[1;33m=\u001B[0m \u001B[0mwrappedFunction\u001B[0m\u001B[1;33m(\u001B[0m\u001B[1;33m*\u001B[0m\u001B[0margs\u001B[0m\u001B[1;33m,\u001B[0m \u001B[1;33m**\u001B[0m\u001B[0mkwargs\u001B[0m\u001B[1;33m)\u001B[0m\u001B[1;33m\u001B[0m\u001B[1;33m\u001B[0m\u001B[0m\n\u001B[0;32m    587\u001B[0m         \u001B[0m_handlePause\u001B[0m\u001B[1;33m(\u001B[0m\u001B[0mkwargs\u001B[0m\u001B[1;33m.\u001B[0m\u001B[0mget\u001B[0m\u001B[1;33m(\u001B[0m\u001B[1;34m\"_pause\"\u001B[0m\u001B[1;33m,\u001B[0m \u001B[1;32mTrue\u001B[0m\u001B[1;33m)\u001B[0m\u001B[1;33m)\u001B[0m\u001B[1;33m\u001B[0m\u001B[1;33m\u001B[0m\u001B[0m\n",
      "\u001B[1;32mC:\\Anaconda\\envs\\mabi\\lib\\site-packages\\pyautogui\\__init__.py\u001B[0m in \u001B[0;36mfailSafeCheck\u001B[1;34m()\u001B[0m\n\u001B[0;32m   1709\u001B[0m     \u001B[1;32mif\u001B[0m \u001B[0mFAILSAFE\u001B[0m \u001B[1;32mand\u001B[0m \u001B[0mtuple\u001B[0m\u001B[1;33m(\u001B[0m\u001B[0mposition\u001B[0m\u001B[1;33m(\u001B[0m\u001B[1;33m)\u001B[0m\u001B[1;33m)\u001B[0m \u001B[1;32min\u001B[0m \u001B[0mFAILSAFE_POINTS\u001B[0m\u001B[1;33m:\u001B[0m\u001B[1;33m\u001B[0m\u001B[1;33m\u001B[0m\u001B[0m\n\u001B[0;32m   1710\u001B[0m         raise FailSafeException(\n\u001B[1;32m-> 1711\u001B[1;33m             \u001B[1;34m\"PyAutoGUI fail-safe triggered from mouse moving to a corner of the screen. To disable this fail-safe, set pyautogui.FAILSAFE to False. DISABLING FAIL-SAFE IS NOT RECOMMENDED.\"\u001B[0m\u001B[1;33m\u001B[0m\u001B[1;33m\u001B[0m\u001B[0m\n\u001B[0m\u001B[0;32m   1712\u001B[0m         )\n\u001B[0;32m   1713\u001B[0m \u001B[1;33m\u001B[0m\u001B[0m\n",
      "\u001B[1;31mFailSafeException\u001B[0m: PyAutoGUI fail-safe triggered from mouse moving to a corner of the screen. To disable this fail-safe, set pyautogui.FAILSAFE to False. DISABLING FAIL-SAFE IS NOT RECOMMENDED."
     ]
    }
   ],
   "source": [
    "# 36min repeating 1 training 2 missions\n",
    "# Replace 0 with id of starting squire - in case you want to start from the middle due to fucking something up\n",
    "# Replace 11 with the total numberc of squires\n",
    "# Mission IDs use the order of your bookmarked missions, -1 for skip mission assignment\n",
    "# Training IDS is the order of training\n",
    "# Set converse to True if you want to talk\n",
    "\n",
    "missions_by_id = {0: {'kanna':-1, 'logan':4, 'dai':0}, 1: {'kanna':-1, 'logan':4, 'dai':0}, \n",
    "                  2: {'kanna':-1, 'logan':4, 'dai':0}, 3: {'kanna':-1, 'logan':4, 'dai':0},\n",
    "                  4: {'kanna':-1, 'logan':4, 'dai':0}, 5: {'kanna':-1, 'logan':4, 'dai':0}, \n",
    "                  6: {'kanna':-1, 'logan':4, 'dai':0}, 7: {'kanna':-1, 'logan':4, 'dai':0},\n",
    "                  8: {'kanna':-1, 'logan':4, 'dai':0}, 9: {'kanna':-1, 'logan':4, 'dai':0}, \n",
    "                  10: {'kanna':-1, 'logan':4, 'dai':0}}\n",
    "training_ids = {0: [18], 1: [18], 2: [18], 3: [18],\n",
    "                4: [18], 5: [18], 6: [18], 7: [18],\n",
    "                8: [18], 9: [18], 10: [18]}\n",
    "\n",
    "action = sb._train_advanced_squire\n",
    "sb.execute_repeated_action(0, 11, action, missions_by_id=missions_by_id, training_by_id=training_ids, converse=True)"
   ]
  },
  {
   "cell_type": "code",
   "execution_count": null,
   "metadata": {},
   "outputs": [],
   "source": [
    "# 36min repeating 3 missions\n",
    "\n",
    "missions_by_id = {}\n",
    "for i in range(11):\n",
    "    missions_by_id[i] = {'logan':2, 'dai':0, 'kanna':4}\n",
    "\n",
    "action = sb._reassign_missions\n",
    "sb.execute_repeated_action(0, 11, action, missions_by_id=missions_by_id)"
   ]
  },
  {
   "cell_type": "markdown",
   "metadata": {},
   "source": [
    "# Counsel"
   ]
  },
  {
   "cell_type": "code",
   "execution_count": null,
   "metadata": {},
   "outputs": [],
   "source": [
    "# Counsels everyone\n",
    "action = sb._counsel_squires\n",
    "sb.execute_action_on_squires(7, 11, action)"
   ]
  },
  {
   "cell_type": "markdown",
   "metadata": {},
   "source": [
    "# Macros - Ignore, requires certain screen setup"
   ]
  },
  {
   "cell_type": "code",
   "execution_count": null,
   "metadata": {},
   "outputs": [],
   "source": [
    "# Buy boxes\n",
    "int_seals = 653\n",
    "sb.box_buying(int_seals)"
   ]
  },
  {
   "cell_type": "code",
   "execution_count": null,
   "metadata": {},
   "outputs": [],
   "source": [
    "# Synthesis\n",
    "num_syn = 40\n",
    "sb.synthesize(num_syn)"
   ]
  },
  {
   "cell_type": "markdown",
   "metadata": {},
   "source": [
    "# Test Functions - Development Playground"
   ]
  },
  {
   "cell_type": "code",
   "execution_count": null,
   "metadata": {},
   "outputs": [],
   "source": [
    "%matplotlib inline\n",
    "from matplotlib import pyplot as plt\n",
    "import numpy as np \n",
    "from PIL import ImageGrab\n",
    "import cv2\n",
    "import pyautogui\n",
    "import time\n",
    "import datetime\n",
    "\n",
    "import pytesseract\n",
    "pytesseract.pytesseract.tesseract_cmd = 'C:/Program Files/Tesseract-OCR/tesseract'\n",
    "\n",
    "import random\n",
    "\n",
    "ir_factor = 1\n",
    "\n",
    "def grab_screen():\n",
    "    screen = np.array(ImageGrab.grab())\n",
    "    screen = cv2.cvtColor(screen, cv2.COLOR_BGR2GRAY)\n",
    "    screen = cv2.resize(screen,None,fx=1/ir_factor,fy=1/ir_factor)\n",
    "    return screen\n",
    "\n",
    "def load_image(img_name):\n",
    "    img = cv2.imread(img_name)\n",
    "    img = cv2.cvtColor(img, cv2.COLOR_BGR2GRAY)\n",
    "    img = cv2.resize(img,None,fx=1/ir_factor,fy=1/ir_factor)\n",
    "    return img\n",
    "\n",
    "def click(img, x, y):\n",
    "    img[x-10:x+10, y-10:y+10] = 0\n",
    "    return img\n",
    "\n",
    "def logout(img):\n",
    "    click(img, 1050, 750)\n",
    "    return img\n",
    "\n",
    "def image_confirm(img2):\n",
    "    screen = img2[0:600, 0:900]\n",
    "    confirm = \"./confirms/dai_confirm.png\"\n",
    "    img = load_image(confirm)\n",
    "    res = cv2.matchTemplate(screen, img, cv2.TM_SQDIFF_NORMED)\n",
    "    min_val, _, min_loc, _ = cv2.minMaxLoc(res)\n",
    "    click(img2, min_loc[1]+20, min_loc[0]+20)\n",
    "    return img2"
   ]
  },
  {
   "cell_type": "code",
   "execution_count": null,
   "metadata": {},
   "outputs": [],
   "source": [
    "screen = load_image(\"./menu7.png\")\n",
    "print(screen.shape)\n",
    "screen = logout(screen)\n",
    "fig=plt.figure(figsize=(1920/120, 1080/120))\n",
    "plt.imshow(screen)\n",
    "plt.show()\n",
    "\n",
    "\n",
    "\n",
    "# text_cutout = screen[775:820, 450:775]\n",
    "# text_cutout = cv2.resize(text_cutout,None,fx=4,fy=4)\n",
    "# ret, text_cutout = cv2.threshold(text_cutout,127,255,cv2.THRESH_BINARY)\n",
    "# text = pytesseract.image_to_string(text_cutout, config='--psm 12 --oem 3')\n",
    "# print(text)\n",
    "# fig=plt.figure(figsize=(1920/120, 1080/120))\n",
    "# plt.imshow(text_cutout)\n",
    "# plt.show()\n",
    "\n",
    "# text_cutout = screen[1010:1060, 450:900]\n",
    "# text_cutout = cv2.resize(text_cutout,None,fx=4,fy=4)\n",
    "# ret, text_cutout = cv2.threshold(text_cutout,127,255,cv2.THRESH_BINARY)\n",
    "# text = pytesseract.image_to_string(text_cutout, config='--psm 12 --oem 3')\n",
    "# print(text)\n",
    "# fig=plt.figure(figsize=(1920/120, 1080/120))\n",
    "# plt.imshow(text_cutout)\n",
    "# plt.show()"
   ]
  },
  {
   "cell_type": "code",
   "execution_count": null,
   "metadata": {},
   "outputs": [],
   "source": [
    "sb.alt_tab()\n",
    "for i in range(50):\n",
    "    pyautogui.mouseDown(); \n",
    "    time.sleep(0.1); \n",
    "    pyautogui.mouseUp() "
   ]
  },
  {
   "cell_type": "code",
   "execution_count": null,
   "metadata": {},
   "outputs": [],
   "source": [
    "import time\n",
    "missions_by_id = {0: [3, 0, -1], 1: [0, -1, 6], 2: [0, -1, 6], 3: [0, -1, 6],\n",
    "                      4: [0, -1, 6], 5: [0, -1, 6], 6: [0, -1, 6], 7: [0, -1, 6],\n",
    "                      8: [0, -1, 6], 9: [0, -1, 6], 10: [0, -1, 6], 11: [0, -1, 6]}\n",
    "\n",
    "sb.alt_tab()\n",
    "# sb._reassign_missions(missions_by_id, 0)\n",
    "# sb._reset_char_screen()\n",
    "# sb._converse_with_squire()\n",
    "# sb._start_training(3)\n",
    "time.sleep(2200)\n",
    "while True:\n",
    "    sb._reassign_missions(missions_by_id, 0)\n",
    "    sb._reset_char_screen()\n",
    "    sb._end_training()\n",
    "    sb._converse_with_squire()\n",
    "    sb._start_training(3)\n",
    "    time.sleep(2200)"
   ]
  },
  {
   "cell_type": "code",
   "execution_count": null,
   "metadata": {},
   "outputs": [],
   "source": [
    "sb.alt_tab()\n",
    "for i in range(3):\n",
    "    sb._click_through_text()\n",
    "    sb._answer_conv_question()\n",
    "    sb._end_conv()"
   ]
  },
  {
   "cell_type": "code",
   "execution_count": null,
   "metadata": {},
   "outputs": [],
   "source": [
    "sb.alt_tab()\n",
    "sb._end_conv()"
   ]
  },
  {
   "cell_type": "code",
   "execution_count": null,
   "metadata": {},
   "outputs": [],
   "source": [
    "import pyautogui\n",
    "from directkeys import PressKey, ReleaseKey, W, A, S, D, SHIFT, CTRL, ESC, C\n",
    "import time\n",
    "sb.alt_tab()\n",
    "\n",
    "#sb._end_training()\n",
    "sb._converse_with_squire()\n",
    "sb._start_training(1)"
   ]
  },
  {
   "cell_type": "code",
   "execution_count": null,
   "metadata": {},
   "outputs": [],
   "source": [
    "def do_nothing(squire_id):\n",
    "    return\n",
    "\n",
    "action = do_nothing\n",
    "sb.execute_action_on_squires(10, 11, action)"
   ]
  },
  {
   "cell_type": "markdown",
   "metadata": {},
   "source": [
    "#### "
   ]
  },
  {
   "cell_type": "code",
   "execution_count": null,
   "metadata": {},
   "outputs": [],
   "source": [
    "num_leathers = 85\n",
    "sb.make_leather_straps(num_leathers)"
   ]
  },
  {
   "cell_type": "code",
   "execution_count": 7,
   "metadata": {},
   "outputs": [],
   "source": [
    "sb.alt_tab()\n",
    "sb._mabi_click(400, 962, delay=0.1, apply_cfactor=sb.apply_factor)"
   ]
  },
  {
   "cell_type": "code",
   "execution_count": null,
   "metadata": {},
   "outputs": [],
   "source": [
    "sb.alt_tab()\n",
    "# sb._mabi_zoom(12, -500)\n",
    "# sb._move_to_squire((\"center\", \"kanna\"), 0)\n",
    "# sb._end_training()\n",
    "sb._counsel()\n",
    "sb._move_to_squire((\"kanna\", \"logan\"), 0)\n",
    "sb._end_training()\n",
    "sb._counsel()\n",
    "sb._move_to_squire((\"logan\", \"dai\"), 0)\n",
    "sb._end_training()\n",
    "sb._counsel()"
   ]
  },
  {
   "cell_type": "code",
   "execution_count": null,
   "metadata": {},
   "outputs": [],
   "source": [
    "import copy\n",
    "import cv2\n",
    "import numpy as np\n",
    "import pyautogui\n",
    "import time\n",
    "\n",
    "from directkeys import PressKey, ReleaseKey, W, A, S, D, SHIFT, CTRL, ESC, C, LEFT, RIGHT\n",
    "from PIL import ImageGrab\n",
    "\n",
    "def alt_tab():\n",
    "    time.sleep(0.5)\n",
    "    pyautogui.hotkey('alt', 'tab', interval=0.1)\n",
    "    \n",
    "def turn_degrees(degree):\n",
    "    for i in range(100):\n",
    "        pyautogui.moveTo(degree*10*i/100, 400)\n",
    "    "
   ]
  },
  {
   "cell_type": "code",
   "execution_count": null,
   "metadata": {},
   "outputs": [],
   "source": [
    "alt_tab()\n",
    "turn_degrees(45)"
   ]
  },
  {
   "cell_type": "code",
   "execution_count": 8,
   "metadata": {},
   "outputs": [
    {
     "name": "stdout",
     "output_type": "stream",
     "text": [
      "od (eXe kX 2mm C2 | MOAKemee] oLOLUp anaat=mU] el@elpatiare Maslesy (0) an\n",
      "\n",
      "MAaMexeMe Ul acelUkar-] elelUh andere (e-] ie\n",
      "\f",
      "\n"
     ]
    }
   ],
   "source": [
    "import pyautogui\n",
    "missions_by_id = {'kanna':-1, 'logan':4, 'dai':1}\n",
    "sb.alt_tab()\n",
    "screen_text = sb._get_screen_tesseract_text(790, 450, 850, 910, apply_factor=sb.apply_factor)\n",
    "print(screen_text)"
   ]
  },
  {
   "cell_type": "markdown",
   "metadata": {},
   "source": [
    "###### "
   ]
  }
 ],
 "metadata": {
  "kernelspec": {
   "display_name": "Python [conda env:mabi]",
   "language": "python",
   "name": "conda-env-mabi-py"
  },
  "language_info": {
   "codemirror_mode": {
    "name": "ipython",
    "version": 3
   },
   "file_extension": ".py",
   "mimetype": "text/x-python",
   "name": "python",
   "nbconvert_exporter": "python",
   "pygments_lexer": "ipython3",
   "version": "3.7.9"
  }
 },
 "nbformat": 4,
 "nbformat_minor": 4
}